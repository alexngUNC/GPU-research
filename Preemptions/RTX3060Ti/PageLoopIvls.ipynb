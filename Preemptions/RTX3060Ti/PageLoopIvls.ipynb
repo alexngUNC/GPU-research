{
 "cells": [
  {
   "cell_type": "code",
   "execution_count": null,
   "metadata": {},
   "outputs": [],
   "source": [
    "from analyzer_functions import *\n",
    "import numpy as np\n",
    "\n",
    "# =================================\n",
    "# Read in the data\n",
    "# =================================\n",
    "alloc_deref_path = '~/preemptions/times/page_fault_loop_old.csv'\n",
    "alloc_no_deref_path = '~/preemptions/times/alloc_no_deref_loop.csv'\n",
    "page_fault_path = '~/preemptions/times/page_fault_loop.csv'\n",
    "shared_path = '~/preemptions/times/alloc_no_deref_loop_shared.csv'\n",
    "crashed_path = '~/preemptions/times/crash_loop.csv'\n",
    "spin_2000_path = '~/preemptions/times/spin_inf2000.csv'\n",
    "page_fault_half_path = '~/preemptions/times/page_fault_half2000.csv'\n",
    "spin_100_path = '~/preemptions/times/spin_loop100.csv'\n",
    "constant_cycles100_path = '~/preemptions/times/constant_cycles10-100.csv'\n",
    "page_fault_ts_path = '~/preemptions/times/page_fault_ts100.csv'\n",
    "pf_spin_path = '~/preemptions/times/pf_spin.csv'\n",
    "pf_spin_nsys_path = '~/preemptions/times/pf_spin_nsys100.csv'\n",
    "\n",
    "paths = [alloc_no_deref_path, alloc_deref_path, page_fault_path, shared_path, crashed_path, spin_2000_path, page_fault_half_path, spin_100_path, constant_cycles100_path, page_fault_ts_path, pf_spin_path, pf_spin_nsys_path]\n",
    "\n",
    "ivls = read_ivls(paths, single=False)"
   ]
  },
  {
   "cell_type": "code",
   "execution_count": null,
   "metadata": {},
   "outputs": [],
   "source": [
    "TIMESLICE_LENGTH = 1000\n",
    "NUM_SAMPLES = 100\n",
    "OFFSET = NUM_SAMPLES // 10\n",
    "\n",
    "# def plot_ivls(left_ivls, right_ivls, left_label, right_label=None, \n",
    "#               right_label_list=None, dual=False,):\n",
    "#   NUM_SAMPLES = 1000000\n",
    "#   offset = NUM_SAMPLES // 10\n",
    "#   if right_label_list is None:\n",
    "#     right_label_list = [right_label for i in range(len(right_ivls))]\n",
    "#   if dual:\n",
    "#     for i, left, right in enumerate(zip(left_ivls, right_ivls)):\n",
    "#       plot_side_by_side(noSharedData=left, sharedData=right, NUM_SAMPLES=NUM_SAMPLES, lowerBound=TIMESLICE_LENGTH+250, upperBound=TIMESLICE_LENGTH+500, \n",
    "#                         medianLines=True, offset=offset, firstLabel=left_label, secondLabel=right_label_list[i])  \n",
    "#   else:\n",
    "#     for i, ivls in enumerate(right_ivls):\n",
    "#       plot_side_by_side(noSharedData=left_ivls, sharedData=ivls, NUM_SAMPLES=NUM_SAMPLES, lowerBound=TIMESLICE_LENGTH+250, upperBound=TIMESLICE_LENGTH+500, \n",
    "#                         medianLines=True, offset=offset, firstLabel=left_label, secondLabel=right_label_list[i])\n",
    "ivls_dict = {\n",
    "  \"Alloc No Deref\": 0,\n",
    "  \"Alloc Deref\": 1,\n",
    "  \"Page Fault\": 2,\n",
    "  \"Shared\": 3,\n",
    "  \"Crashed\": 4,\n",
    "  \"Spin-2000\": 5,\n",
    "  \"PF-Half\": 6,\n",
    "  \"Spin-100\": 7,\n",
    "  \"constant\": 8,\n",
    "  \"Page Fault TS\": 9,\n",
    "  \"pf_spin\": 10,\n",
    "  \"pf_spin_nsys\": 11\n",
    "}\n",
    "\n",
    "\n",
    "plot_side_by_side(noSharedData=ivls[ivls_dict[\"Alloc No Deref\"]], sharedData=ivls[ivls_dict[\"Page Fault\"]], NUM_SAMPLES=NUM_SAMPLES, lowerBound=0, upperBound=TIMESLICE_LENGTH*3, \n",
    "                    medianLines=True, offset=OFFSET, firstLabel=\"Alloc No Deref\", secondLabel=\"Page Fault\",\n",
    "                    lowerTextOffset=1, upperTextOffset=10)"
   ]
  },
  {
   "cell_type": "code",
   "execution_count": null,
   "metadata": {},
   "outputs": [],
   "source": [
    "plot_side_by_side(noSharedData=ivls[ivls_dict[\"Shared\"]], sharedData=ivls[ivls_dict[\"Page Fault\"]], NUM_SAMPLES=NUM_SAMPLES, lowerBound=TIMESLICE_LENGTH, upperBound=TIMESLICE_LENGTH*3, \n",
    "                    medianLines=True, offset=OFFSET, firstLabel=\"Shared\", secondLabel=\"Page Fault\",\n",
    "                    lowerTextOffset=1, upperTextOffset=10)"
   ]
  },
  {
   "cell_type": "code",
   "execution_count": null,
   "metadata": {},
   "outputs": [],
   "source": [
    "plot_side_by_side(noSharedData=ivls[ivls_dict[\"Alloc No Deref\"]], sharedData=ivls[ivls_dict[\"Crashed\"]], NUM_SAMPLES=NUM_SAMPLES, lowerBound=0, upperBound=20*TIMESLICE_LENGTH+500, \n",
    "                    medianLines=True, offset=OFFSET, firstLabel=\"Alloc No Deref\", secondLabel=\"Crashed\",\n",
    "                    lowerTextOffset=1, upperTextOffset=10)"
   ]
  },
  {
   "cell_type": "code",
   "execution_count": null,
   "metadata": {},
   "outputs": [],
   "source": [
    "NUM_SAMPLES = 2000\n",
    "OFFSET = NUM_SAMPLES // 10\n",
    "plot_side_by_side(noSharedData=ivls[ivls_dict[\"Spin-2000\"]], sharedData=ivls[ivls_dict[\"PF-Half\"]], NUM_SAMPLES=NUM_SAMPLES, lowerBound=0, upperBound=3*TIMESLICE_LENGTH+500, \n",
    "                    medianLines=True, offset=OFFSET, firstLabel=\"Spin\", secondLabel=\"Page Fault Half\",\n",
    "                    lowerTextOffset=1, upperTextOffset=10)"
   ]
  },
  {
   "cell_type": "code",
   "execution_count": null,
   "metadata": {},
   "outputs": [],
   "source": [
    "NUM_SAMPLES = 100\n",
    "OFFSET = NUM_SAMPLES // 10\n",
    "plot_side_by_side(noSharedData=ivls[ivls_dict[\"Spin-100\"]], sharedData=ivls[ivls_dict[\"Page Fault\"]], NUM_SAMPLES=NUM_SAMPLES, lowerBound=0, upperBound=3*TIMESLICE_LENGTH+500, \n",
    "                    medianLines=True, offset=OFFSET, firstLabel=\"Spin\", secondLabel=\"Page Fault Half\",\n",
    "                    lowerTextOffset=1, upperTextOffset=10)"
   ]
  },
  {
   "cell_type": "code",
   "execution_count": null,
   "metadata": {},
   "outputs": [],
   "source": [
    "plot_side_by_side(noSharedData=ivls[ivls_dict[\"Alloc Deref\"]], sharedData=ivls[ivls_dict[\"Page Fault\"]], NUM_SAMPLES=NUM_SAMPLES, lowerBound=0, upperBound=3*TIMESLICE_LENGTH+500, \n",
    "                    medianLines=True, offset=OFFSET, firstLabel=\"Alloc Deref\", secondLabel=\"Page Fault\",\n",
    "                    lowerTextOffset=1, upperTextOffset=10)"
   ]
  },
  {
   "cell_type": "code",
   "execution_count": null,
   "metadata": {},
   "outputs": [],
   "source": [
    "TIMESLICE_LENGTH = 2000\n",
    "NUM_SAMPLES = 100\n",
    "OFFSET = NUM_SAMPLES // 10\n",
    "plot_side_by_side(noSharedData=ivls[ivls_dict[\"constant\"]], sharedData=ivls[ivls_dict[\"Page Fault\"]], NUM_SAMPLES=NUM_SAMPLES, lowerBound=0, upperBound=2*TIMESLICE_LENGTH+500, \n",
    "                    medianLines=True, offset=OFFSET, firstLabel=\"Constant Cycles\", secondLabel=\"Page Fault\",\n",
    "                    lowerTextOffset=1, upperTextOffset=10)"
   ]
  },
  {
   "cell_type": "code",
   "execution_count": null,
   "metadata": {},
   "outputs": [],
   "source": [
    "TIMESLICE_LENGTH = 2000\n",
    "NUM_SAMPLES = 100\n",
    "OFFSET = NUM_SAMPLES // 10\n",
    "plot_side_by_side(noSharedData=ivls[ivls_dict[\"constant\"]], sharedData=ivls[ivls_dict[\"Page Fault TS\"]], NUM_SAMPLES=NUM_SAMPLES, lowerBound=0, upperBound=2*TIMESLICE_LENGTH+500, \n",
    "                    medianLines=True, offset=OFFSET, firstLabel=\"Constant Cycles\", secondLabel=\"Page Fault TS\",\n",
    "                    lowerTextOffset=1, upperTextOffset=10)"
   ]
  },
  {
   "cell_type": "code",
   "execution_count": null,
   "metadata": {},
   "outputs": [],
   "source": [
    "TIMESLICE_LENGTH = 2000\n",
    "NUM_SAMPLES = 100\n",
    "OFFSET = NUM_SAMPLES // 10\n",
    "plot_side_by_side(noSharedData=ivls[ivls_dict[\"constant\"]], sharedData=ivls[ivls_dict[\"pf_spin\"]], NUM_SAMPLES=NUM_SAMPLES, lowerBound=0, upperBound=2*TIMESLICE_LENGTH+500, \n",
    "                    medianLines=True, offset=OFFSET, firstLabel=\"Constant Cycles\", secondLabel=\"Page Fault End TS\",\n",
    "                    lowerTextOffset=1, upperTextOffset=10)"
   ]
  },
  {
   "cell_type": "code",
   "execution_count": null,
   "metadata": {},
   "outputs": [],
   "source": [
    "TIMESLICE_LENGTH = 2131\n",
    "NUM_SAMPLES = 100\n",
    "OFFSET = NUM_SAMPLES // 10\n",
    "plot_side_by_side(noSharedData=ivls[ivls_dict[\"constant\"]], sharedData=ivls[ivls_dict[\"pf_spin_nsys\"]], NUM_SAMPLES=NUM_SAMPLES, lowerBound=TIMESLICE_LENGTH-200, upperBound=TIMESLICE_LENGTH+500, \n",
    "                    medianLines=True, offset=OFFSET, firstLabel=\"Constant Cycles\", secondLabel=\"Page Fault End TS - NSYS\",\n",
    "                    lowerTextOffset=1, upperTextOffset=10)"
   ]
  },
  {
   "cell_type": "code",
   "execution_count": null,
   "metadata": {},
   "outputs": [],
   "source": [
    "TIMESLICE_LENGTH = 2131\n",
    "NUM_SAMPLES = 100\n",
    "OFFSET = NUM_SAMPLES // 10\n",
    "plot_side_by_side(noSharedData=ivls[ivls_dict[\"constant\"]], sharedData=ivls[ivls_dict[\"pf_spin_nsys\"]], NUM_SAMPLES=NUM_SAMPLES, lowerBound=TIMESLICE_LENGTH-200, upperBound=TIMESLICE_LENGTH+500, \n",
    "                    medianLines=False, worstCaseLines=True, offset=OFFSET, firstLabel=\"Constant Cycles\", secondLabel=\"Page Fault End TS - NSYS\",\n",
    "                    lowerTextOffset=1, upperTextOffset=10)"
   ]
  },
  {
   "cell_type": "code",
   "execution_count": 1,
   "metadata": {},
   "outputs": [],
   "source": [
    "# need to retake page fault preemption logger measurements bc timeslice ticks were set to 20 us instead of 2 us"
   ]
  },
  {
   "cell_type": "code",
   "execution_count": null,
   "metadata": {},
   "outputs": [],
   "source": []
  }
 ],
 "metadata": {
  "kernelspec": {
   "display_name": "preempt",
   "language": "python",
   "name": "python3"
  },
  "language_info": {
   "codemirror_mode": {
    "name": "ipython",
    "version": 3
   },
   "file_extension": ".py",
   "mimetype": "text/x-python",
   "name": "python",
   "nbconvert_exporter": "python",
   "pygments_lexer": "ipython3",
   "version": "3.12.4"
  }
 },
 "nbformat": 4,
 "nbformat_minor": 2
}
