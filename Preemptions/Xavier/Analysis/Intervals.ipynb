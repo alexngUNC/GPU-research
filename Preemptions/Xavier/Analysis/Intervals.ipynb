{
 "cells": [
  {
   "cell_type": "markdown",
   "metadata": {},
   "source": [
    "# Preemption and Execution Intervals\n",
    "\n",
    "This notebook illustrates the intervals that contain preemptions logged by Joshua's preemption logger."
   ]
  },
  {
   "cell_type": "code",
   "execution_count": 1,
   "metadata": {},
   "outputs": [
    {
     "name": "stdout",
     "output_type": "stream",
     "text": [
      "/Users/alexgeorgiev/Desktop/Research/GPU-research/Preemptions/Xavier\n",
      "['FourCustomCapacity/CxavierSetSharedThree12th.csv', 'FourCustomCapacity/FxavierSetSharedSix12th.csv', 'FourCustomCapacity/IxavierSetSharedNine12th.csv', 'FourCustomCapacity/LxavierSetSharedTwelve12th.csv']\n"
     ]
    }
   ],
   "source": [
    "import os\n",
    "%cd ~/Desktop/Research/GPU-research/Preemptions/Xavier\n",
    "\n",
    "custom_directory_path = 'FourCustomCapacity'\n",
    "custom_paths = []\n",
    "\n",
    "# List all files in the custom carveout directory\n",
    "for filename in os.listdir(custom_directory_path):\n",
    "  if filename == '.DS_Store':\n",
    "    continue\n",
    "  file_path = os.path.join(custom_directory_path, filename)\n",
    "  if os.path.isfile(file_path):\n",
    "      custom_paths.append(file_path)\n",
    "\n",
    "# Order the paths so that the arrays have the capacities in the same order for plotting\n",
    "custom_paths = sorted(custom_paths)\n",
    "print(custom_paths)"
   ]
  },
  {
   "cell_type": "markdown",
   "metadata": {},
   "source": [
    "### Load in the data"
   ]
  },
  {
   "cell_type": "code",
   "execution_count": 2,
   "metadata": {},
   "outputs": [
    {
     "name": "stdout",
     "output_type": "stream",
     "text": [
      "/Users/alexgeorgiev/Desktop/Research/GPU-research/Preemptions\n",
      "/Users/alexgeorgiev/Desktop/Research/GPU-research/Preemptions/Xavier\n"
     ]
    }
   ],
   "source": [
    "import pandas as pd\n",
    "import numpy as np\n",
    "%cd ~/Desktop/Research/GPU-research/Preemptions\n",
    "from analyzer_functions import *\n",
    "%cd ~/Desktop/Research/GPU-research/Preemptions/Xavier\n",
    "\n",
    "dataPath = custom_paths[3]\n",
    "\n",
    "raw, intervals = data_loader(singlePath=dataPath, single=True)\n",
    "\n",
    "# convert to microseconds\n",
    "intervals = np.array(intervals) / 1000"
   ]
  },
  {
   "cell_type": "markdown",
   "metadata": {},
   "source": [
    "## Plot the raw times"
   ]
  },
  {
   "cell_type": "code",
   "execution_count": 3,
   "metadata": {},
   "outputs": [
    {
     "data": {
      "text/html": [
       "<div>\n",
       "<style scoped>\n",
       "    .dataframe tbody tr th:only-of-type {\n",
       "        vertical-align: middle;\n",
       "    }\n",
       "\n",
       "    .dataframe tbody tr th {\n",
       "        vertical-align: top;\n",
       "    }\n",
       "\n",
       "    .dataframe thead th {\n",
       "        text-align: right;\n",
       "    }\n",
       "</style>\n",
       "<table border=\"1\" class=\"dataframe\">\n",
       "  <thead>\n",
       "    <tr style=\"text-align: right;\">\n",
       "      <th></th>\n",
       "      <th>start</th>\n",
       "      <th>end</th>\n",
       "      <th>interval</th>\n",
       "    </tr>\n",
       "  </thead>\n",
       "  <tbody>\n",
       "    <tr>\n",
       "      <th>0</th>\n",
       "      <td>5364143506584209</td>\n",
       "      <td>5364146003560609</td>\n",
       "      <td>2496976400</td>\n",
       "    </tr>\n",
       "    <tr>\n",
       "      <th>1</th>\n",
       "      <td>5364146005413198</td>\n",
       "      <td>5364146006430125</td>\n",
       "      <td>1016927</td>\n",
       "    </tr>\n",
       "    <tr>\n",
       "      <th>2</th>\n",
       "      <td>5364146008105545</td>\n",
       "      <td>5364146009126569</td>\n",
       "      <td>1021024</td>\n",
       "    </tr>\n",
       "    <tr>\n",
       "      <th>3</th>\n",
       "      <td>5364146010407712</td>\n",
       "      <td>5364146011427711</td>\n",
       "      <td>1019999</td>\n",
       "    </tr>\n",
       "    <tr>\n",
       "      <th>4</th>\n",
       "      <td>5364146011646868</td>\n",
       "      <td>5364146013696083</td>\n",
       "      <td>2049215</td>\n",
       "    </tr>\n",
       "    <tr>\n",
       "      <th>...</th>\n",
       "      <td>...</td>\n",
       "      <td>...</td>\n",
       "      <td>...</td>\n",
       "    </tr>\n",
       "    <tr>\n",
       "      <th>999995</th>\n",
       "      <td>5366463502538289</td>\n",
       "      <td>5366463503549071</td>\n",
       "      <td>1010782</td>\n",
       "    </tr>\n",
       "    <tr>\n",
       "      <th>999996</th>\n",
       "      <td>5366463504854793</td>\n",
       "      <td>5366463505866599</td>\n",
       "      <td>1011806</td>\n",
       "    </tr>\n",
       "    <tr>\n",
       "      <th>999997</th>\n",
       "      <td>5366463507173345</td>\n",
       "      <td>5366463508184128</td>\n",
       "      <td>1010783</td>\n",
       "    </tr>\n",
       "    <tr>\n",
       "      <th>999998</th>\n",
       "      <td>5366463509488825</td>\n",
       "      <td>5366463510500632</td>\n",
       "      <td>1011807</td>\n",
       "    </tr>\n",
       "    <tr>\n",
       "      <th>999999</th>\n",
       "      <td>5366463511807378</td>\n",
       "      <td>5366463512817136</td>\n",
       "      <td>1009758</td>\n",
       "    </tr>\n",
       "  </tbody>\n",
       "</table>\n",
       "<p>1000000 rows × 3 columns</p>\n",
       "</div>"
      ],
      "text/plain": [
       "                   start               end    interval\n",
       "0       5364143506584209  5364146003560609  2496976400\n",
       "1       5364146005413198  5364146006430125     1016927\n",
       "2       5364146008105545  5364146009126569     1021024\n",
       "3       5364146010407712  5364146011427711     1019999\n",
       "4       5364146011646868  5364146013696083     2049215\n",
       "...                  ...               ...         ...\n",
       "999995  5366463502538289  5366463503549071     1010782\n",
       "999996  5366463504854793  5366463505866599     1011806\n",
       "999997  5366463507173345  5366463508184128     1010783\n",
       "999998  5366463509488825  5366463510500632     1011807\n",
       "999999  5366463511807378  5366463512817136     1009758\n",
       "\n",
       "[1000000 rows x 3 columns]"
      ]
     },
     "execution_count": 3,
     "metadata": {},
     "output_type": "execute_result"
    }
   ],
   "source": [
    "raw"
   ]
  },
  {
   "cell_type": "code",
   "execution_count": 6,
   "metadata": {},
   "outputs": [
    {
     "data": {
      "text/plain": [
       "1010.783"
      ]
     },
     "execution_count": 6,
     "metadata": {},
     "output_type": "execute_result"
    }
   ],
   "source": [
    "np.median(raw['interval']) / 1000"
   ]
  },
  {
   "cell_type": "code",
   "execution_count": 5,
   "metadata": {},
   "outputs": [
    {
     "data": {
      "text/plain": [
       "1306.746"
      ]
     },
     "execution_count": 5,
     "metadata": {},
     "output_type": "execute_result"
    }
   ],
   "source": [
    "np.median(intervals)"
   ]
  }
 ],
 "metadata": {
  "kernelspec": {
   "display_name": "Python 3",
   "language": "python",
   "name": "python3"
  },
  "language_info": {
   "codemirror_mode": {
    "name": "ipython",
    "version": 3
   },
   "file_extension": ".py",
   "mimetype": "text/x-python",
   "name": "python",
   "nbconvert_exporter": "python",
   "pygments_lexer": "ipython3",
   "version": "3.11.5"
  },
  "orig_nbformat": 4
 },
 "nbformat": 4,
 "nbformat_minor": 2
}
