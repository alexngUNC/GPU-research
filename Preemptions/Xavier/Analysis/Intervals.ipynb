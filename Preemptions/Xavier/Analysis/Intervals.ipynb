{
 "cells": [
  {
   "cell_type": "markdown",
   "metadata": {},
   "source": [
    "# Preemption and Execution Intervals\n",
    "\n",
    "This notebook illustrates the intervals that contain preemptions logged by Joshua's preemption logger."
   ]
  },
  {
   "cell_type": "code",
   "execution_count": 1,
   "metadata": {},
   "outputs": [
    {
     "name": "stdout",
     "output_type": "stream",
     "text": [
      "/Users/alexgeorgiev/Desktop/Research/GPU-research/Preemptions/Xavier\n",
      "['FourCustomCapacity/CxavierSetSharedThree12th.csv', 'FourCustomCapacity/FxavierSetSharedSix12th.csv', 'FourCustomCapacity/IxavierSetSharedNine12th.csv', 'FourCustomCapacity/LxavierSetSharedTwelve12th.csv']\n"
     ]
    }
   ],
   "source": [
    "import os\n",
    "%cd ~/Desktop/Research/GPU-research/Preemptions/Xavier\n",
    "\n",
    "custom_directory_path = 'FourCustomCapacity'\n",
    "custom_paths = []\n",
    "\n",
    "# List all files in the custom carveout directory\n",
    "for filename in os.listdir(custom_directory_path):\n",
    "  if filename == '.DS_Store':\n",
    "    continue\n",
    "  file_path = os.path.join(custom_directory_path, filename)\n",
    "  if os.path.isfile(file_path):\n",
    "      custom_paths.append(file_path)\n",
    "\n",
    "# Order the paths so that the arrays have the capacities in the same order for plotting\n",
    "custom_paths = sorted(custom_paths)\n",
    "print(custom_paths)"
   ]
  },
  {
   "cell_type": "markdown",
   "metadata": {},
   "source": [
    "### Load in the data"
   ]
  },
  {
   "cell_type": "code",
   "execution_count": 11,
   "metadata": {},
   "outputs": [
    {
     "name": "stdout",
     "output_type": "stream",
     "text": [
      "/Users/alexgeorgiev/Desktop/Research/GPU-research/Preemptions\n",
      "/Users/alexgeorgiev/Desktop/Research/GPU-research/Preemptions/Xavier\n"
     ]
    }
   ],
   "source": [
    "import pandas as pd\n",
    "import numpy as np\n",
    "%cd ~/Desktop/Research/GPU-research/Preemptions\n",
    "from analyzer_functions import *\n",
    "%cd ~/Desktop/Research/GPU-research/Preemptions/Xavier\n",
    "\n",
    "dataPath = custom_paths[3]\n",
    "\n",
    "intervals = data_loader(singlePath=dataPath, onlyPreemptIvls=True, single=True)\n",
    "\n",
    "# convert to microseconds\n",
    "intervals = np.array(intervals) / 1000\n",
    "\n",
    "# export to CSV\n",
    "# np.savetxt(\"preempts.csv\", intervals, delimiter=\",\")"
   ]
  },
  {
   "cell_type": "code",
   "execution_count": 12,
   "metadata": {},
   "outputs": [],
   "source": [
    "# load in the csv as a dataframe\n",
    "import pandas as pd\n",
    "times = pd.read_csv(dataPath, header=None)\n",
    "\n",
    "times.columns = ['start', 'end']\n",
    "\n",
    "times['interval'] = times['end'] - times['start']"
   ]
  },
  {
   "cell_type": "code",
   "execution_count": 13,
   "metadata": {},
   "outputs": [
    {
     "data": {
      "text/html": [
       "<div>\n",
       "<style scoped>\n",
       "    .dataframe tbody tr th:only-of-type {\n",
       "        vertical-align: middle;\n",
       "    }\n",
       "\n",
       "    .dataframe tbody tr th {\n",
       "        vertical-align: top;\n",
       "    }\n",
       "\n",
       "    .dataframe thead th {\n",
       "        text-align: right;\n",
       "    }\n",
       "</style>\n",
       "<table border=\"1\" class=\"dataframe\">\n",
       "  <thead>\n",
       "    <tr style=\"text-align: right;\">\n",
       "      <th></th>\n",
       "      <th>start</th>\n",
       "      <th>end</th>\n",
       "      <th>interval</th>\n",
       "    </tr>\n",
       "  </thead>\n",
       "  <tbody>\n",
       "    <tr>\n",
       "      <th>0</th>\n",
       "      <td>5364143506584209</td>\n",
       "      <td>5364146003560609</td>\n",
       "      <td>2496976400</td>\n",
       "    </tr>\n",
       "    <tr>\n",
       "      <th>1</th>\n",
       "      <td>5364146005413198</td>\n",
       "      <td>5364146006430125</td>\n",
       "      <td>1016927</td>\n",
       "    </tr>\n",
       "    <tr>\n",
       "      <th>2</th>\n",
       "      <td>5364146008105545</td>\n",
       "      <td>5364146009126569</td>\n",
       "      <td>1021024</td>\n",
       "    </tr>\n",
       "    <tr>\n",
       "      <th>3</th>\n",
       "      <td>5364146010407712</td>\n",
       "      <td>5364146011427711</td>\n",
       "      <td>1019999</td>\n",
       "    </tr>\n",
       "    <tr>\n",
       "      <th>4</th>\n",
       "      <td>5364146011646868</td>\n",
       "      <td>5364146013696083</td>\n",
       "      <td>2049215</td>\n",
       "    </tr>\n",
       "  </tbody>\n",
       "</table>\n",
       "</div>"
      ],
      "text/plain": [
       "              start               end    interval\n",
       "0  5364143506584209  5364146003560609  2496976400\n",
       "1  5364146005413198  5364146006430125     1016927\n",
       "2  5364146008105545  5364146009126569     1021024\n",
       "3  5364146010407712  5364146011427711     1019999\n",
       "4  5364146011646868  5364146013696083     2049215"
      ]
     },
     "execution_count": 13,
     "metadata": {},
     "output_type": "execute_result"
    }
   ],
   "source": [
    "times.head()"
   ]
  },
  {
   "cell_type": "code",
   "execution_count": null,
   "metadata": {},
   "outputs": [],
   "source": []
  },
  {
   "cell_type": "markdown",
   "metadata": {},
   "source": [
    "## Plot the raw times"
   ]
  },
  {
   "cell_type": "code",
   "execution_count": null,
   "metadata": {},
   "outputs": [
    {
     "ename": "ValueError",
     "evalue": "x and y must be the same size",
     "output_type": "error",
     "traceback": [
      "\u001b[0;31m---------------------------------------------------------------------------\u001b[0m",
      "\u001b[0;31mValueError\u001b[0m                                Traceback (most recent call last)",
      "Cell \u001b[0;32mIn[18], line 7\u001b[0m\n\u001b[1;32m      4\u001b[0m plt\u001b[39m.\u001b[39mfigure(figsize\u001b[39m=\u001b[39m(\u001b[39m15\u001b[39m, \u001b[39m7\u001b[39m))\n\u001b[1;32m      6\u001b[0m \u001b[39m# plot the raw times\u001b[39;00m\n\u001b[0;32m----> 7\u001b[0m plt\u001b[39m.\u001b[39;49mscatter(\u001b[39mrange\u001b[39;49m(\u001b[39m1\u001b[39;49m, NUM_SAMPLES\u001b[39m+\u001b[39;49m\u001b[39m1\u001b[39;49m), times)\n",
      "File \u001b[0;32m/opt/homebrew/lib/python3.11/site-packages/matplotlib/pyplot.py:2862\u001b[0m, in \u001b[0;36mscatter\u001b[0;34m(x, y, s, c, marker, cmap, norm, vmin, vmax, alpha, linewidths, edgecolors, plotnonfinite, data, **kwargs)\u001b[0m\n\u001b[1;32m   2857\u001b[0m \u001b[39m@_copy_docstring_and_deprecators\u001b[39m(Axes\u001b[39m.\u001b[39mscatter)\n\u001b[1;32m   2858\u001b[0m \u001b[39mdef\u001b[39;00m \u001b[39mscatter\u001b[39m(\n\u001b[1;32m   2859\u001b[0m         x, y, s\u001b[39m=\u001b[39m\u001b[39mNone\u001b[39;00m, c\u001b[39m=\u001b[39m\u001b[39mNone\u001b[39;00m, marker\u001b[39m=\u001b[39m\u001b[39mNone\u001b[39;00m, cmap\u001b[39m=\u001b[39m\u001b[39mNone\u001b[39;00m, norm\u001b[39m=\u001b[39m\u001b[39mNone\u001b[39;00m,\n\u001b[1;32m   2860\u001b[0m         vmin\u001b[39m=\u001b[39m\u001b[39mNone\u001b[39;00m, vmax\u001b[39m=\u001b[39m\u001b[39mNone\u001b[39;00m, alpha\u001b[39m=\u001b[39m\u001b[39mNone\u001b[39;00m, linewidths\u001b[39m=\u001b[39m\u001b[39mNone\u001b[39;00m, \u001b[39m*\u001b[39m,\n\u001b[1;32m   2861\u001b[0m         edgecolors\u001b[39m=\u001b[39m\u001b[39mNone\u001b[39;00m, plotnonfinite\u001b[39m=\u001b[39m\u001b[39mFalse\u001b[39;00m, data\u001b[39m=\u001b[39m\u001b[39mNone\u001b[39;00m, \u001b[39m*\u001b[39m\u001b[39m*\u001b[39mkwargs):\n\u001b[0;32m-> 2862\u001b[0m     __ret \u001b[39m=\u001b[39m gca()\u001b[39m.\u001b[39;49mscatter(\n\u001b[1;32m   2863\u001b[0m         x, y, s\u001b[39m=\u001b[39;49ms, c\u001b[39m=\u001b[39;49mc, marker\u001b[39m=\u001b[39;49mmarker, cmap\u001b[39m=\u001b[39;49mcmap, norm\u001b[39m=\u001b[39;49mnorm,\n\u001b[1;32m   2864\u001b[0m         vmin\u001b[39m=\u001b[39;49mvmin, vmax\u001b[39m=\u001b[39;49mvmax, alpha\u001b[39m=\u001b[39;49malpha, linewidths\u001b[39m=\u001b[39;49mlinewidths,\n\u001b[1;32m   2865\u001b[0m         edgecolors\u001b[39m=\u001b[39;49medgecolors, plotnonfinite\u001b[39m=\u001b[39;49mplotnonfinite,\n\u001b[1;32m   2866\u001b[0m         \u001b[39m*\u001b[39;49m\u001b[39m*\u001b[39;49m({\u001b[39m\"\u001b[39;49m\u001b[39mdata\u001b[39;49m\u001b[39m\"\u001b[39;49m: data} \u001b[39mif\u001b[39;49;00m data \u001b[39mis\u001b[39;49;00m \u001b[39mnot\u001b[39;49;00m \u001b[39mNone\u001b[39;49;00m \u001b[39melse\u001b[39;49;00m {}), \u001b[39m*\u001b[39;49m\u001b[39m*\u001b[39;49mkwargs)\n\u001b[1;32m   2867\u001b[0m     sci(__ret)\n\u001b[1;32m   2868\u001b[0m     \u001b[39mreturn\u001b[39;00m __ret\n",
      "File \u001b[0;32m/opt/homebrew/lib/python3.11/site-packages/matplotlib/__init__.py:1446\u001b[0m, in \u001b[0;36m_preprocess_data.<locals>.inner\u001b[0;34m(ax, data, *args, **kwargs)\u001b[0m\n\u001b[1;32m   1443\u001b[0m \u001b[39m@functools\u001b[39m\u001b[39m.\u001b[39mwraps(func)\n\u001b[1;32m   1444\u001b[0m \u001b[39mdef\u001b[39;00m \u001b[39minner\u001b[39m(ax, \u001b[39m*\u001b[39margs, data\u001b[39m=\u001b[39m\u001b[39mNone\u001b[39;00m, \u001b[39m*\u001b[39m\u001b[39m*\u001b[39mkwargs):\n\u001b[1;32m   1445\u001b[0m     \u001b[39mif\u001b[39;00m data \u001b[39mis\u001b[39;00m \u001b[39mNone\u001b[39;00m:\n\u001b[0;32m-> 1446\u001b[0m         \u001b[39mreturn\u001b[39;00m func(ax, \u001b[39m*\u001b[39;49m\u001b[39mmap\u001b[39;49m(sanitize_sequence, args), \u001b[39m*\u001b[39;49m\u001b[39m*\u001b[39;49mkwargs)\n\u001b[1;32m   1448\u001b[0m     bound \u001b[39m=\u001b[39m new_sig\u001b[39m.\u001b[39mbind(ax, \u001b[39m*\u001b[39margs, \u001b[39m*\u001b[39m\u001b[39m*\u001b[39mkwargs)\n\u001b[1;32m   1449\u001b[0m     auto_label \u001b[39m=\u001b[39m (bound\u001b[39m.\u001b[39marguments\u001b[39m.\u001b[39mget(label_namer)\n\u001b[1;32m   1450\u001b[0m                   \u001b[39mor\u001b[39;00m bound\u001b[39m.\u001b[39mkwargs\u001b[39m.\u001b[39mget(label_namer))\n",
      "File \u001b[0;32m/opt/homebrew/lib/python3.11/site-packages/matplotlib/axes/_axes.py:4578\u001b[0m, in \u001b[0;36mAxes.scatter\u001b[0;34m(self, x, y, s, c, marker, cmap, norm, vmin, vmax, alpha, linewidths, edgecolors, plotnonfinite, **kwargs)\u001b[0m\n\u001b[1;32m   4576\u001b[0m y \u001b[39m=\u001b[39m np\u001b[39m.\u001b[39mma\u001b[39m.\u001b[39mravel(y)\n\u001b[1;32m   4577\u001b[0m \u001b[39mif\u001b[39;00m x\u001b[39m.\u001b[39msize \u001b[39m!=\u001b[39m y\u001b[39m.\u001b[39msize:\n\u001b[0;32m-> 4578\u001b[0m     \u001b[39mraise\u001b[39;00m \u001b[39mValueError\u001b[39;00m(\u001b[39m\"\u001b[39m\u001b[39mx and y must be the same size\u001b[39m\u001b[39m\"\u001b[39m)\n\u001b[1;32m   4580\u001b[0m \u001b[39mif\u001b[39;00m s \u001b[39mis\u001b[39;00m \u001b[39mNone\u001b[39;00m:\n\u001b[1;32m   4581\u001b[0m     s \u001b[39m=\u001b[39m (\u001b[39m20\u001b[39m \u001b[39mif\u001b[39;00m mpl\u001b[39m.\u001b[39mrcParams[\u001b[39m'\u001b[39m\u001b[39m_internal.classic_mode\u001b[39m\u001b[39m'\u001b[39m] \u001b[39melse\u001b[39;00m\n\u001b[1;32m   4582\u001b[0m          mpl\u001b[39m.\u001b[39mrcParams[\u001b[39m'\u001b[39m\u001b[39mlines.markersize\u001b[39m\u001b[39m'\u001b[39m] \u001b[39m*\u001b[39m\u001b[39m*\u001b[39m \u001b[39m2.0\u001b[39m)\n",
      "\u001b[0;31mValueError\u001b[0m: x and y must be the same size"
     ]
    },
    {
     "data": {
      "image/png": "[encoded data removed]",
      "text/plain": [
       "<Figure size 1500x700 with 1 Axes>"
      ]
     },
     "metadata": {},
     "output_type": "display_data"
    }
   ],
   "source": [
    "import matplotlib.pyplot as plt\n",
    "NUM_SAMPLES = 1000000\n",
    "# make the figure\n",
    "plt.figure(figsize=(15, 7))\n",
    "\n",
    "# plot the raw times\n",
    "plt.scatter(range(1, NUM_SAMPLES+1), times)"
   ]
  },
  {
   "cell_type": "code",
   "execution_count": null,
   "metadata": {},
   "outputs": [
    {
     "data": {
      "text/plain": [
       "True"
      ]
     },
     "execution_count": 20,
     "metadata": {},
     "output_type": "execute_result"
    }
   ],
   "source": [
    "len(times) == len(range(1, NUM_SAMPLES+1))"
   ]
  },
  {
   "cell_type": "markdown",
   "metadata": {},
   "source": [
    "## Plot the intervals"
   ]
  },
  {
   "cell_type": "code",
   "execution_count": null,
   "metadata": {},
   "outputs": [],
   "source": [
    "#!/usr/bin/env python3\n",
    "import matplotlib.pyplot as plt\n",
    "import numpy\n",
    "import sys\n",
    "plt.rcParams[\"figure.figsize\"] = (16,2)\n",
    "plt.rcParams[\"axes.formatter.useoffset\"] = False\n",
    "\n",
    "# Google Drive colors\n",
    "dark_orange = '#e69138'\n",
    "dark_blue = '#3d85c6'\n",
    "dark_green = '#6aa84f'\n",
    "\n",
    "np = numpy\n",
    "def autoscale(ax=None, axis='y', margin=0.1):\n",
    "    '''Autoscales the x or y axis of a given matplotlib ax object\n",
    "    to fit the margins set by manually limits of the other axis,\n",
    "    with margins in fraction of the width of the plot\n",
    "\n",
    "    Defaults to current axes object if not specified.\n",
    "    '''\n",
    "\n",
    "    \n",
    "    if ax is None:\n",
    "        ax = plt.gca()\n",
    "    newlow, newhigh = np.inf, -np.inf\n",
    "\n",
    "    for artist in ax.collections + ax.lines:\n",
    "        x,y = get_xy(artist)\n",
    "        if axis == 'y':\n",
    "            setlim = ax.set_ylim\n",
    "            lim = ax.get_xlim()\n",
    "            fixed, dependent = x, y\n",
    "        else:\n",
    "            setlim = ax.set_xlim\n",
    "            lim = ax.get_ylim()\n",
    "            fixed, dependent = y, x\n",
    "\n",
    "        low, high = calculate_new_limit(fixed, dependent, lim)\n",
    "        newlow = low if low < newlow else newlow\n",
    "        newhigh = high if high > newhigh else newhigh\n",
    "\n",
    "    margin = margin*(newhigh - newlow)\n",
    "\n",
    "    setlim(newlow-margin, newhigh+margin)\n",
    "\n",
    "def calculate_new_limit(fixed, dependent, limit):\n",
    "    '''Calculates the min/max of the dependent axis given \n",
    "    a fixed axis with limits\n",
    "    '''\n",
    "    if len(fixed) > 2:\n",
    "        mask = (fixed>limit[0]) & (fixed < limit[1]) & (~np.isnan(dependent)) & (~np.isnan(fixed))\n",
    "        window = dependent[mask]\n",
    "        try:\n",
    "            low, high = window.min(), window.max()\n",
    "        except ValueError:  # Will throw ValueError if `window` has zero elements\n",
    "            low, high = np.inf, -np.inf\n",
    "    else:\n",
    "        low = dependent[0]\n",
    "        high = dependent[-1]\n",
    "        if low == 0.0 and high == 1.0:\n",
    "            # This is a axhline in the autoscale direction\n",
    "            low = np.inf\n",
    "            high = -np.inf\n",
    "    return low, high\n",
    "\n",
    "def get_xy(artist):\n",
    "    '''Gets the xy coordinates of a given artist\n",
    "    '''\n",
    "    if \"Collection\" in str(artist):\n",
    "        x, y = artist.get_offsets().T\n",
    "    elif \"Line\" in str(artist):\n",
    "        x, y = artist.get_xdata(), artist.get_ydata()\n",
    "    else:\n",
    "        raise ValueError(\"This type of object isn't implemented yet\")\n",
    "    return x, y\n",
    "\n",
    "def plot_ivls(ivls, markers=[], lim=None, save=None):\n",
    "    base = ivls[0][0]\n",
    "\n",
    "    # Rebase everything such that 0 = time of first run interval\n",
    "    markers -= base\n",
    "    markers /= 1000*1000 # Convert ns to ms\n",
    "    ivls -= base\n",
    "    ivls /= 1000*1000 # Convert ns to ms\n",
    "    \n",
    "\n",
    "    # Mush the run intervals into a format we can pass to plot\n",
    "    # Do this by inserting None between the end of one interval and the start of\n",
    "    # the next, allowing us to plot all intervals with a single plot() call as\n",
    "    # though it's one long line\n",
    "    ivls = numpy.append(ivls, numpy.full((ivls.shape[0], 1), float('nan')), axis = 1);\n",
    "    flat_ivls = ivls.flatten()\n",
    "    \n",
    "    y_idxs = numpy.copy(ivls)\n",
    "    y_idxs[:,0] = numpy.arange(ivls.shape[0])\n",
    "    y_idxs[:,1] = numpy.arange(ivls.shape[0])\n",
    "    flat_y_idxs = y_idxs.flatten()\n",
    "\n",
    "    fig, ax = plt.subplots()\n",
    "    ax.set_xlabel(\"Time [milliseconds (ms)]\")\n",
    "    ax.set_ylabel(\"Timeslice Number\")\n",
    "    ax.ticklabel_format(style='plain')\n",
    "    ax.plot(flat_ivls, flat_y_idxs, c=dark_blue, solid_capstyle='butt')\n",
    "    #ax.plot(markers, numpy.ones(markers.size), \"r+\")\n",
    "    for marker in markers:\n",
    "        plt.axvline(marker, linestyle=':', c=dark_green)\n",
    "    # Auto-range to shortly before first timeslice to shortly after the end of the last, if no range specified\n",
    "    if lim:\n",
    "        plt.xlim(lim)\n",
    "        autoscale(ax, 'y')\n",
    "        print(np.interp(lim[0], flat_ivls, flat_y_idxs))\n",
    "        #plt.ylim(())\n",
    "    elif lim is None:\n",
    "        plt.xlim(ivls[0][1]-100, ivls[-1][1]+100)\n",
    "    plt.tight_layout()\n",
    "    if save:\n",
    "        plt.savefig(save)\n",
    "    plt.show()\n",
    "\n",
    "\n",
    "if (len(sys.argv) < 2):\n",
    "    print(\"Usage: \" + sys.argv[0] + \" <intervals_log> <markers log>\")\n",
    "    print(\"<intervals log> is usually the output of preemption_logger\")\n",
    "    print(\"<markers log> is usually the preemption points\")\n",
    "    exit(1)\n",
    "ivls = numpy.loadtxt(sys.argv[1], delimiter=\",\")\n",
    "markers = []\n",
    "if (len(sys.argv) == 3):\n",
    "\tmarkers = numpy.loadtxt(sys.argv[2])\n",
    "\n",
    "plot_ivls(ivls, markers)"
   ]
  }
 ],
 "metadata": {
  "kernelspec": {
   "display_name": "Python 3",
   "language": "python",
   "name": "python3"
  },
  "language_info": {
   "codemirror_mode": {
    "name": "ipython",
    "version": 3
   },
   "file_extension": ".py",
   "mimetype": "text/x-python",
   "name": "python",
   "nbconvert_exporter": "python",
   "pygments_lexer": "ipython3",
   "version": "3.11.5"
  },
  "orig_nbformat": 4
 },
 "nbformat": 4,
 "nbformat_minor": 2
}
