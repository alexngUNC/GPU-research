{
 "cells": [
  {
   "cell_type": "markdown",
   "metadata": {},
   "source": [
    "The following data was collected on the Jetson AGX Xavier. It tests shared memory capacity across intervals of twelfths. This analysis also investigates whether the amount of shared memory used always affects preemption times, or if the shared memory partition set by the compiler is the main factor."
   ]
  },
  {
   "cell_type": "code",
   "execution_count": null,
   "metadata": {},
   "outputs": [],
   "source": []
  }
 ],
 "metadata": {
  "language_info": {
   "name": "python"
  },
  "orig_nbformat": 4
 },
 "nbformat": 4,
 "nbformat_minor": 2
}
